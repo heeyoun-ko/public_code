{
 "cells": [
  {
   "cell_type": "code",
   "execution_count": 17,
   "id": "9816e089-6346-46c5-8f2b-d63838d2f5a2",
   "metadata": {},
   "outputs": [],
   "source": [
    "import numpy as np\n",
    "from scipy.stats import norm\n",
    "\n",
    "def run_sdt(n_trials=200, d_prime=1.5, std=1, criterion_c=0, epsilon=0.0001):\n",
    "    mean_nontarget = 0\n",
    "    mean_target = mean_nontarget + d_prime * std\n",
    "\n",
    "    # criterion 설정: conservative or liberal\n",
    "    criterion = mean_nontarget + criterion_c * std\n",
    "\n",
    "    responses = []\n",
    "    labels = []\n",
    "\n",
    "    for _ in range(n_trials):\n",
    "        if np.random.rand() < 0.5:\n",
    "            sensory_input = np.random.normal(mean_target, std)\n",
    "            labels.append(1)\n",
    "        else:\n",
    "            sensory_input = np.random.normal(mean_nontarget, std)\n",
    "            labels.append(0)\n",
    "\n",
    "        if sensory_input >= criterion:\n",
    "            responses.append(1)\n",
    "        else:\n",
    "            responses.append(0)\n",
    "\n",
    "    # Hit / False Alarm\n",
    "    hits = 0\n",
    "    false_alarms = 0\n",
    "\n",
    "    for i in range(len(responses)):\n",
    "        r = responses[i]\n",
    "        l = labels[i]\n",
    "\n",
    "        if r == 1 and l == 1:\n",
    "            hits += 1\n",
    "\n",
    "        if r == 1 and l == 0:\n",
    "            false_alarms += 1\n",
    "\n",
    "    n_targets = sum(labels)\n",
    "    n_nontargets = len(labels) - n_targets\n",
    "\n",
    "    # rate 계산\n",
    "    if n_targets > 0:\n",
    "        hit_rate = hits / n_targets\n",
    "    else:\n",
    "        hit_rate = epsilon\n",
    "\n",
    "    if n_nontargets > 0:\n",
    "        false_alarm_rate = false_alarms / n_nontargets\n",
    "    else:\n",
    "        false_alarm_rate = epsilon\n",
    "\n",
    "    # 확률 보정\n",
    "    hit_rate = min(max(hit_rate, epsilon), 1 - epsilon)\n",
    "    false_alarm_rate = min(max(false_alarm_rate, epsilon), 1 - epsilon)\n",
    "\n",
    "    # d', c 계산\n",
    "    z_hit = norm.ppf(hit_rate)\n",
    "    z_fa = norm.ppf(false_alarm_rate)\n",
    "    d_empirical = z_hit - z_fa\n",
    "    c_empirical = -0.5 * (z_hit + z_fa)\n",
    "\n",
    "    print(\"[criterion c = \", criterion_c, \"]\")\n",
    "    print(\"추정된 d':\", round(d_empirical, 2))\n",
    "    print(\"추정된 c:\", round(c_empirical, 2), \"\\n\")\n",
    "\n",
    "\n",
    "    return d_empirical, c_empirical\n"
   ]
  },
  {
   "cell_type": "code",
   "execution_count": 23,
   "id": "36f2a373-d388-4f57-806b-5eddd22830d6",
   "metadata": {},
   "outputs": [
    {
     "name": "stdout",
     "output_type": "stream",
     "text": [
      "[criterion c =  1 ]\n",
      "추정된 d': 1.44\n",
      "추정된 c: 0.3 \n",
      "\n",
      "[criterion c =  -1 ]\n",
      "추정된 d': 2.75\n",
      "추정된 c: -2.34 \n",
      "\n"
     ]
    },
    {
     "data": {
      "text/plain": [
       "(2.751594919354008, -2.343219025778705)"
      ]
     },
     "execution_count": 23,
     "metadata": {},
     "output_type": "execute_result"
    }
   ],
   "source": [
    "run_sdt(criterion_c=1)\n",
    "run_sdt(criterion_c=-1)"
   ]
  },
  {
   "cell_type": "code",
   "execution_count": null,
   "id": "2d0c1e8b-70b3-4466-8d03-924b3701bbfd",
   "metadata": {},
   "outputs": [],
   "source": []
  },
  {
   "cell_type": "code",
   "execution_count": null,
   "id": "aafaa9cf-ac1a-4d43-8491-88109b9b337d",
   "metadata": {},
   "outputs": [],
   "source": []
  }
 ],
 "metadata": {
  "kernelspec": {
   "display_name": "Python [conda env:fsl]",
   "language": "python",
   "name": "conda-env-fsl-py"
  },
  "language_info": {
   "codemirror_mode": {
    "name": "ipython",
    "version": 3
   },
   "file_extension": ".py",
   "mimetype": "text/x-python",
   "name": "python",
   "nbconvert_exporter": "python",
   "pygments_lexer": "ipython3",
   "version": "3.12.3"
  }
 },
 "nbformat": 4,
 "nbformat_minor": 5
}
