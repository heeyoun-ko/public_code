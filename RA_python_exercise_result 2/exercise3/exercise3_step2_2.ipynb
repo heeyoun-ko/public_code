{
 "cells": [
  {
   "cell_type": "code",
   "execution_count": 1,
   "id": "98011f38-f9cd-4e13-9ccc-29d0e0cdcd23",
   "metadata": {},
   "outputs": [
    {
     "name": "stdout",
     "output_type": "stream",
     "text": [
      "실제 d': 1.5\n",
      "시뮬레이션된 d': 1.42\n"
     ]
    }
   ],
   "source": [
    "import numpy as np\n",
    "from scipy.stats import norm\n",
    "\n",
    "# Setting\n",
    "n_trials = 200\n",
    "d_prime = 1.5\n",
    "std = 1\n",
    "mean_nontarget = 0\n",
    "mean_target = mean_nontarget + d_prime * std\n",
    "criterion = (mean_target + mean_nontarget) / 2\n",
    "\n",
    "# Results\n",
    "responses = []\n",
    "labels = []\n",
    "\n",
    "# Simulation\n",
    "for _ in range(n_trials):\n",
    "    if np.random.rand() < 0.5:\n",
    "        # target\n",
    "        sensory_input = np.random.normal(mean_target, std)\n",
    "        labels.append(1)\n",
    "    else:\n",
    "        # non-target\n",
    "        sensory_input = np.random.normal(mean_nontarget, std)\n",
    "        labels.append(0)\n",
    "\n",
    "    if sensory_input >= criterion:\n",
    "        responses.append(1)  # 'Yes'\n",
    "    else:\n",
    "        responses.append(0)  # 'No'\n",
    "\n",
    "# Hit & False Alarm \n",
    "hits = 0\n",
    "false_alarms = 0\n",
    "\n",
    "for i in range(len(responses)):\n",
    "    r = responses[i]\n",
    "    l = labels[i]\n",
    "    \n",
    "    if r == 1 and l == 1:\n",
    "        hits += 1\n",
    "    \n",
    "    if r == 1 and l == 0:\n",
    "        false_alarms += 1\n",
    "\n",
    "\n",
    "# target, non-target 개수 계산\n",
    "n_targets = sum(labels)\n",
    "n_nontargets = len(labels) - n_targets\n",
    "\n",
    "\n",
    "# rate 계산 (0이나 1 방지용 극단값 보정 추가)\n",
    "epsilon = 0.0001\n",
    "if n_targets > 0:\n",
    "    hit_rate = hits / n_targets\n",
    "else:\n",
    "    hit_rate = epsilon\n",
    "\n",
    "if n_nontargets > 0:\n",
    "    false_alarm_rate = false_alarms / n_nontargets\n",
    "else:\n",
    "    false_alarm_rate = epsilon\n",
    "\n",
    "\n",
    "\n",
    "# 확률 보정\n",
    "hit_rate = min(max(hit_rate, epsilon), 1 - epsilon)\n",
    "false_alarm_rate = min(max(false_alarm_rate, epsilon), 1 - epsilon)\n",
    "\n",
    "\n",
    "# d' 계산\n",
    "# Although we assume normal distributions, we can't observe them directly.\n",
    "# So we estimate d′ by applying the inverse Z-transform to behavioral responses.\n",
    "d_prime_empirical = norm.ppf(hit_rate) - norm.ppf(false_alarm_rate)\n",
    "\n",
    "print(\"실제 d':\", round(d_prime, 2))\n",
    "print(\"시뮬레이션된 d':\", round(d_prime_empirical, 2))\n"
   ]
  },
  {
   "cell_type": "code",
   "execution_count": null,
   "id": "8721e283-e414-4521-84fa-d5e32be327d6",
   "metadata": {},
   "outputs": [],
   "source": []
  }
 ],
 "metadata": {
  "kernelspec": {
   "display_name": "Python [conda env:fsl]",
   "language": "python",
   "name": "conda-env-fsl-py"
  },
  "language_info": {
   "codemirror_mode": {
    "name": "ipython",
    "version": 3
   },
   "file_extension": ".py",
   "mimetype": "text/x-python",
   "name": "python",
   "nbconvert_exporter": "python",
   "pygments_lexer": "ipython3",
   "version": "3.12.3"
  }
 },
 "nbformat": 4,
 "nbformat_minor": 5
}
