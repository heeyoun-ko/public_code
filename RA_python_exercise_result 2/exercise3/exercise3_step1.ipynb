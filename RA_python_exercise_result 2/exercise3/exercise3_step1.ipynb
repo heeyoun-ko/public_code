{
 "cells": [
  {
   "cell_type": "code",
   "execution_count": 1,
   "id": "fa30c133-a127-4989-a945-480d8702f204",
   "metadata": {},
   "outputs": [],
   "source": [
    "import numpy as np\n",
    "import matplotlib.pyplot as plt"
   ]
  },
  {
   "cell_type": "code",
   "execution_count": 34,
   "id": "8ba0f794-6363-4d75-b61f-472e55ac9e38",
   "metadata": {},
   "outputs": [],
   "source": [
    "# Let me randomly set the both mean values like below.\n",
    "\n",
    "n_trials = 50\n",
    "mean_target = 2\n",
    "mean_nontarget = 0\n",
    "std = 1\n",
    "\n",
    "# As mentioned before in the document, I set the criterion to the middle of two values.\n",
    "criterion = (mean_target + mean_nontarget) / 2\n",
    "\n",
    "# and, 'responses' is a list containing sequences of 'Yes' or 'No'.\n",
    "responses = []"
   ]
  },
  {
   "cell_type": "code",
   "execution_count": 36,
   "id": "d1df92d8-9f81-4542-a1fb-cdca5419cc3d",
   "metadata": {},
   "outputs": [
    {
     "name": "stdout",
     "output_type": "stream",
     "text": [
      "총 50 개의 trial 중:\n",
      "Yes 응답: 26 회 ( 0.52 )\n",
      "No 응답: 24 회 ( 0.48 )\n"
     ]
    }
   ],
   "source": [
    "#1 Simulation start\n",
    "\n",
    "for _ in range(n_trials):\n",
    "    \n",
    "    # setting 50% by using random function\n",
    "    if np.random.rand() < 0.5:\n",
    "        # target trial\n",
    "        sensory_input = np.random.normal(loc=mean_target, scale=std)\n",
    "    else:\n",
    "        # non-target trial\n",
    "        sensory_input = np.random.normal(loc=mean_nontarget, scale=std)\n",
    "\n",
    "    # make list\n",
    "    if sensory_input >= criterion:\n",
    "        responses.append('Yes')\n",
    "    else:\n",
    "        responses.append('No')\n",
    "\n",
    "# Result\n",
    "n_yes = responses.count('Yes')\n",
    "n_no = responses.count('No')\n",
    "\n",
    "print(\"총\", n_trials, \"개의 trial 중:\")\n",
    "print(\"Yes 응답:\", n_yes, \"회\", \"(\", n_yes/n_trials, \")\")\n",
    "print(\"No 응답:\", n_no, \"회\", \"(\", n_no/n_trials, \")\")"
   ]
  },
  {
   "cell_type": "code",
   "execution_count": null,
   "id": "13bec5ff-5aa0-4c6b-9834-18f202b1e463",
   "metadata": {},
   "outputs": [],
   "source": []
  },
  {
   "cell_type": "code",
   "execution_count": null,
   "id": "708c5ef9-c6f8-489b-a279-fddeccd637ec",
   "metadata": {},
   "outputs": [],
   "source": []
  }
 ],
 "metadata": {
  "kernelspec": {
   "display_name": "Python [conda env:fsl]",
   "language": "python",
   "name": "conda-env-fsl-py"
  },
  "language_info": {
   "codemirror_mode": {
    "name": "ipython",
    "version": 3
   },
   "file_extension": ".py",
   "mimetype": "text/x-python",
   "name": "python",
   "nbconvert_exporter": "python",
   "pygments_lexer": "ipython3",
   "version": "3.12.3"
  }
 },
 "nbformat": 4,
 "nbformat_minor": 5
}
