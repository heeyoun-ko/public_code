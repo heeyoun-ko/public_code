{
 "cells": [
  {
   "cell_type": "code",
   "execution_count": 5,
   "id": "ae51fab2-4df6-497d-a37a-ec96bec4a016",
   "metadata": {},
   "outputs": [],
   "source": [
    "import numpy as np\n",
    "from scipy.stats import norm\n",
    "\n",
    "def run_sdt_var(n_trials=200, d_prime=1.5, std_nontarget=1, std_target=1.5**0.5, criterion_c=0, epsilon=0.0001):\n",
    "    mean_nontarget = 0\n",
    "    mean_target = mean_nontarget + d_prime * std_nontarget  # 기준은 여전히 non-target 기준\n",
    "\n",
    "    criterion = mean_nontarget + criterion_c * std_nontarget\n",
    "\n",
    "    responses = []\n",
    "    labels = []\n",
    "\n",
    "    for _ in range(n_trials):\n",
    "        if np.random.rand() < 0.5:\n",
    "            sensory_input = np.random.normal(mean_target, std_target)\n",
    "            labels.append(1)\n",
    "        else:\n",
    "            sensory_input = np.random.normal(mean_nontarget, std_nontarget)\n",
    "            labels.append(0)\n",
    "\n",
    "        if sensory_input >= criterion:\n",
    "            responses.append(1)\n",
    "        else:\n",
    "            responses.append(0)\n",
    "\n",
    "    # Hit / False Alarm\n",
    "    hits = 0\n",
    "    false_alarms = 0\n",
    "\n",
    "    for i in range(len(responses)):\n",
    "        r = responses[i]\n",
    "        l = labels[i]\n",
    "\n",
    "        if r == 1 and l == 1:\n",
    "            hits += 1\n",
    "\n",
    "        if r == 1 and l == 0:\n",
    "            false_alarms += 1\n",
    "\n",
    "    n_targets = sum(labels)\n",
    "    n_nontargets = len(labels) - n_targets\n",
    "\n",
    "    # rate 계산\n",
    "    if n_targets > 0:\n",
    "        hit_rate = hits / n_targets\n",
    "    else:\n",
    "        hit_rate = epsilon\n",
    "\n",
    "    if n_nontargets > 0:\n",
    "        false_alarm_rate = false_alarms / n_nontargets\n",
    "    else:\n",
    "        false_alarm_rate = epsilon\n",
    "\n",
    "    # 확률 보정\n",
    "    hit_rate = min(max(hit_rate, epsilon), 1 - epsilon)\n",
    "    false_alarm_rate = min(max(false_alarm_rate, epsilon), 1 - epsilon)\n",
    "\n",
    "    # d', c 계산\n",
    "    z_hit = norm.ppf(hit_rate)\n",
    "    z_fa = norm.ppf(false_alarm_rate)\n",
    "    d_empirical = z_hit - z_fa\n",
    "    c_empirical = -0.5 * (z_hit + z_fa)\n",
    "\n",
    "    print(\"[criterion c =\", criterion_c, \"]\")\n",
    "    print(\"추정된 d':\", round(d_empirical, 2))\n",
    "    print(\"추정된 c:\", round(c_empirical, 2), \"\\n\")\n",
    "\n",
    "    return d_empirical, c_empirical"
   ]
  },
  {
   "cell_type": "code",
   "execution_count": 9,
   "id": "c24b8e61-a7a2-44af-ac08-f885f1eb29c6",
   "metadata": {},
   "outputs": [
    {
     "name": "stdout",
     "output_type": "stream",
     "text": [
      "[criterion c = 0 ]\n",
      "추정된 d': 1.45\n",
      "추정된 c: -0.76 \n",
      "\n",
      "[criterion c = 1 ]\n",
      "추정된 d': 1.29\n",
      "추정된 c: 0.25 \n",
      "\n",
      "[criterion c = -1 ]\n",
      "추정된 d': 2.61\n",
      "추정된 c: -2.42 \n",
      "\n"
     ]
    }
   ],
   "source": [
    "run_sdt_var(criterion_c=0);\n",
    "run_sdt_var(criterion_c=1);\n",
    "run_sdt_var(criterion_c=-1);\n"
   ]
  },
  {
   "cell_type": "code",
   "execution_count": null,
   "id": "0b9bbced-8c9f-488e-af10-1f0a5f949d4b",
   "metadata": {},
   "outputs": [],
   "source": []
  }
 ],
 "metadata": {
  "kernelspec": {
   "display_name": "Python [conda env:fsl]",
   "language": "python",
   "name": "conda-env-fsl-py"
  },
  "language_info": {
   "codemirror_mode": {
    "name": "ipython",
    "version": 3
   },
   "file_extension": ".py",
   "mimetype": "text/x-python",
   "name": "python",
   "nbconvert_exporter": "python",
   "pygments_lexer": "ipython3",
   "version": "3.12.3"
  }
 },
 "nbformat": 4,
 "nbformat_minor": 5
}
